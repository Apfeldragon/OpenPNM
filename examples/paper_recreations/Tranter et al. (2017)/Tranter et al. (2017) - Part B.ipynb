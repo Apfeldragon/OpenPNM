{
 "cells": [
  {
   "cell_type": "markdown",
   "metadata": {},
   "source": [
    "# Re-creating [Capillary Hysteresis in Neutrally Wettable Fibrous Media: A Pore Network Study of a Fuel Cell Electrode](http://link.springer.com/10.1007/s11242-017-0973-2)\n",
    "# Part B: Relative Diffusivity\n",
    "\n",
    "## Introduction\n",
    "\n",
    "In this notebook we will use the results from part (a) and run a Fickian diffusion simulation at different levels of saturation to generate a relative diffusivity relationship.\n",
    "\n",
    "## Imports"
   ]
  },
  {
   "cell_type": "code",
   "execution_count": 1,
   "metadata": {},
   "outputs": [],
   "source": [
    "import numpy as np\n",
    "import openpnm as op\n",
    "from openpnm.models import physics as pm\n",
    "np.set_printoptions(precision=5)\n",
    "import matplotlib.pyplot as plt\n",
    "%matplotlib inline\n",
    "np.random.seed(10)\n",
    "ws = op.Workspace()\n",
    "ws.settings['loglevel'] = 50\n",
    "ws.clear()\n",
    "ws.load_project('../../fixtures/hysteresis_paper_project')"
   ]
  },
  {
   "cell_type": "code",
   "execution_count": 2,
   "metadata": {},
   "outputs": [
    {
     "name": "stdout",
     "output_type": "stream",
     "text": [
      "――――――――――――――――――――――――――――――――――――――――――――――――――――――――――――――――――――――――――――――\n",
      "OpenPNM Version 2.2.0 Workspace\n",
      "――――――――――――――――――――――――――――――――――――――――――――――――――――――――――――――――――――――――――――――\n",
      " hysteresis_paper\n",
      "――――――――――――――――――――――――――――――――――――――――――――――――――――――――――――――――――――――――――――――\n",
      " Object Name     Object ID                                                        \n",
      "――――――――――――――――――――――――――――――――――――――――――――――――――――――――――――――――――――――――――――――\n",
      " network         <openpnm.network.GenericNetwork object at 0x120d2e090>           \n",
      " geometry        <openpnm.geometry.GenericGeometry object at 0x12847e720>         \n",
      " air             <openpnm.phases.Air object at 0x12847ebd0>                       \n",
      " water           <openpnm.phases.Water object at 0x1284aa4f0>                     \n",
      " phys_air        <openpnm.physics.Standard object at 0x1284ace00>                 \n",
      " phys_water      <openpnm.physics.Standard object at 0x1284b5540>                 \n",
      " injection       <openpnm.algorithms.MixedInvasionPercolation object at 0x125ea6450>\n",
      " withdrawal      <openpnm.algorithms.MixedInvasionPercolationCoop object at 0x125ea9720>\n",
      "――――――――――――――――――――――――――――――――――――――――――――――――――――――――――――――――――――――――――――――\n"
     ]
    }
   ],
   "source": [
    "# NBVAL_IGNORE_OUTPUT\n",
    "print(ws)"
   ]
  },
  {
   "cell_type": "markdown",
   "metadata": {},
   "source": [
    "Now that we have loaded the project we need to get handles back to all our saved objects which is done using the names given to them in part (a)."
   ]
  },
  {
   "cell_type": "code",
   "execution_count": 3,
   "metadata": {},
   "outputs": [],
   "source": [
    "prj = ws['hysteresis_paper']\n",
    "pn = prj.network\n",
    "geom = prj.geometries('geometry')\n",
    "air = prj.phases('air')\n",
    "water = prj.phases('water')\n",
    "phys_air = prj.physics('phys_air')\n",
    "phys_water = prj.physics('phys_water')\n",
    "IP_injection = prj.algorithms('injection')\n",
    "IP_withdrawal = prj.algorithms('withdrawal')"
   ]
  },
  {
   "cell_type": "markdown",
   "metadata": {},
   "source": [
    "We set the occupancy of the phases and define the multiphase conductance models. As pore network models are basically resistor networs, the phase occupancy is used to scale down the conductance of a particular phase in a particular where it is not present. The mode of the model determines how the scale factor is applied for multiphase conductance. Strict means that conductance is scaled down for the conduit comprising a half pore - throat - half pore if any of the elements is not occupied by the phase for which the physics object is applied to."
   ]
  },
  {
   "cell_type": "code",
   "execution_count": 4,
   "metadata": {},
   "outputs": [],
   "source": [
    "water[\"pore.occupancy\"] = False\n",
    "water[\"throat.occupancy\"] = False\n",
    "air[\"pore.occupancy\"] = False\n",
    "air[\"throat.occupancy\"] = False\n",
    "conduit_mode = 'strict'\n",
    "phys_air.add_model(model=pm.multiphase.conduit_conductance,\n",
    "                   propname='throat.conduit_diffusive_conductance',\n",
    "                   throat_conductance='throat.diffusive_conductance',\n",
    "                   mode=conduit_mode,\n",
    "                   factor=1e-6)\n",
    "phys_water.add_model(model=pm.multiphase.conduit_conductance,\n",
    "                     propname='throat.conduit_diffusive_conductance',\n",
    "                     throat_conductance='throat.diffusive_conductance',\n",
    "                     mode=conduit_mode,\n",
    "                     factor=1e-6)"
   ]
  },
  {
   "cell_type": "markdown",
   "metadata": {},
   "source": [
    "Now we define a helper function to return an effective diffusivity value for flow through the network in along a particular axis. This will be called many times in a loop later."
   ]
  },
  {
   "cell_type": "code",
   "execution_count": 5,
   "metadata": {},
   "outputs": [],
   "source": [
    "def diffusivity(phase, conductance_model, axis=0):\n",
    "    fd = op.algorithms.FickianDiffusion(network=pn)\n",
    "    fd.setup(phase=phase, conductance=conductance_model)\n",
    "    if axis == 0:\n",
    "        fd.set_value_BC(pores=pn.pores('front_boundary'), values=1.0)\n",
    "        fd.set_value_BC(pores=pn.pores('back_boundary'), values=0.5)\n",
    "    elif axis == 1:\n",
    "        fd.set_value_BC(pores=pn.pores('left_boundary'), values=1.0)\n",
    "        fd.set_value_BC(pores=pn.pores('right_boundary'), values=0.5)\n",
    "    else:\n",
    "        fd.set_value_BC(pores=pn.pores('top_boundary'), values=1.0)\n",
    "        fd.set_value_BC(pores=pn.pores('bottom_boundary'), values=0.5)\n",
    "    fd.run()\n",
    "    return fd.calc_effective_diffusivity()[0]"
   ]
  },
  {
   "cell_type": "markdown",
   "metadata": {},
   "source": [
    "We will use the capillary pressure to set the occupancy by asking the percolation algorithm for its results. But first we want a list of pressures that will produce a range of saturations that are evenly spaced and sampled down."
   ]
  },
  {
   "cell_type": "code",
   "execution_count": 6,
   "metadata": {},
   "outputs": [],
   "source": [
    "inv_points = np.arange(0, 15025, 25)\n",
    "injection_data = IP_injection.get_intrusion_data(inv_points=inv_points)\n",
    "args = [0]\n",
    "sats = [0]\n",
    "for i in range(len(injection_data.S_tot)):\n",
    "    if injection_data.S_tot[i] - sats[-1] > 0.05:\n",
    "        args.append(i)\n",
    "        sats.append(injection_data.S_tot[i])"
   ]
  },
  {
   "cell_type": "markdown",
   "metadata": {},
   "source": [
    "Now we can loop through the pressures and collect the diffusivity information for each phase. The results are normalized by the diffusivity at full phase occupancy. As water is the invading phase for the injection algorithm, the air is normalized by the first value and water by the last."
   ]
  },
  {
   "cell_type": "code",
   "execution_count": 7,
   "metadata": {},
   "outputs": [
    {
     "data": {
      "image/png": "[encoded data removed]",
      "text/plain": [
       "<Figure size 432x288 with 1 Axes>"
      ]
     },
     "metadata": {
      "needs_background": "light"
     },
     "output_type": "display_data"
    }
   ],
   "source": [
    "# NBVAL_IGNORE_OUTPUT\n",
    "air.remove_model(['pore.occupancy'])\n",
    "air.remove_model(['throat.occupancy'])\n",
    "water.remove_model(['pore.occupancy'])\n",
    "water.remove_model(['throat.occupancy'])\n",
    "conds_air = []\n",
    "conds_water = []\n",
    "prop = 'throat.conduit_diffusive_conductance'\n",
    "for Pc in injection_data.Pcap[args]:\n",
    "    res = IP_injection.results(Pc)\n",
    "    phys_air['throat.occupancy'] = res['throat.occupancy'] == 0.0\n",
    "    phys_air['pore.occupancy'] = res['pore.occupancy'] == 0.0\n",
    "    phys_water['throat.occupancy'] = res['throat.occupancy'] > 0.0\n",
    "    phys_water['pore.occupancy'] = res['pore.occupancy'] > 0.0\n",
    "    phys_air.regenerate_models(propnames=[prop])\n",
    "    phys_water.regenerate_models(propnames=[prop])\n",
    "    conds_air.append(diffusivity(air, prop))\n",
    "    conds_water.append(diffusivity(water, prop))\n",
    "\n",
    "conds_air = np.asarray(conds_air)/conds_air[0]\n",
    "conds_water = np.asarray(conds_water)/conds_water[-1]\n",
    "plt.figure()\n",
    "plots = []\n",
    "plots.append(plt.plot(sats, conds_air, 'r*-', label='air'))\n",
    "plots.append(plt.plot(sats, conds_water, 'b*-', label='water'))\n",
    "plt.xlabel('Water Saturation')\n",
    "plt.ylabel('Relative Phase Conductance')\n",
    "plt.title('Injection')\n",
    "ax = plt.gca()\n",
    "ax.legend()\n",
    "isats = np.asarray(sats)\n",
    "iconds_air = conds_air"
   ]
  },
  {
   "cell_type": "markdown",
   "metadata": {},
   "source": [
    "Let's take a look at the data:"
   ]
  },
  {
   "cell_type": "code",
   "execution_count": 8,
   "metadata": {},
   "outputs": [
    {
     "name": "stdout",
     "output_type": "stream",
     "text": [
      "[0, 0.050911549523727256, 0.10173013298180678, 0.15294667324763775, 0.20359630066043602, 0.25936493362313673, 0.4749213684730929, 0.5288640172781734, 0.588297795614516, 0.6468625760439058, 0.6974279551655583, 0.7486892501503599, 0.7993623663870011, 0.8504259861912226, 0.9009302306422524, 0.9511639595332948] [1.00000e+00 9.00978e-01 8.13846e-01 7.21578e-01 6.31991e-01 5.22833e-01\n",
      " 1.88012e-01 9.76540e-02 2.90092e-02 5.14082e-06 3.14752e-06 2.25989e-06\n",
      " 1.25257e-06 1.05056e-06 1.00746e-06 1.00038e-06]\n",
      "[0, 0.050911549523727256, 0.10173013298180678, 0.15294667324763775, 0.20359630066043602, 0.25936493362313673, 0.4749213684730929, 0.5288640172781734, 0.588297795614516, 0.6468625760439058, 0.6974279551655583, 0.7486892501503599, 0.7993623663870011, 0.8504259861912226, 0.9009302306422524, 0.9511639595332948] [0.05718 0.05733 0.05928 0.06816 0.08903 0.15451 0.39231 0.46712 0.54782\n",
      " 0.61061 0.66582 0.75109 0.83473 0.89206 0.96936 1.     ]\n"
     ]
    }
   ],
   "source": [
    "print(sats, conds_air)\n",
    "print(sats, conds_water)"
   ]
  },
  {
   "cell_type": "markdown",
   "metadata": {},
   "source": [
    "Repeating the process for the water withdrawal follows a similar pattern but the normalizing arguments are reversed and saturation, defined as pore volume fraction occupied by water, is now 1-invading phase occupancy."
   ]
  },
  {
   "cell_type": "code",
   "execution_count": 9,
   "metadata": {},
   "outputs": [
    {
     "data": {
      "image/png": "[encoded data removed]",
      "text/plain": [
       "<Figure size 432x288 with 1 Axes>"
      ]
     },
     "metadata": {
      "needs_background": "light"
     },
     "output_type": "display_data"
    }
   ],
   "source": [
    "# NBVAL_IGNORE_OUTPUT\n",
    "inv_points = np.arange(0, 15025, 25)\n",
    "withdrawal_data = IP_withdrawal.get_intrusion_data(inv_points=inv_points)\n",
    "args = [0]\n",
    "sats = [0]\n",
    "for i in range(len(withdrawal_data.S_tot)):\n",
    "    if injection_data.S_tot[i] - sats[-1] > 0.05:\n",
    "        args.append(i)\n",
    "        sats.append(injection_data.S_tot[i])\n",
    "sats = np.asarray(sats)\n",
    "air.remove_model(['pore.occupancy'])\n",
    "air.remove_model(['throat.occupancy'])\n",
    "water.remove_model(['pore.occupancy'])\n",
    "water.remove_model(['throat.occupancy'])\n",
    "conds_air = []\n",
    "conds_water = []\n",
    "prop = 'throat.conduit_diffusive_conductance'\n",
    "for Pc in injection_data.Pcap[args]:\n",
    "    res = IP_injection.results(Pc)\n",
    "    phys_air['throat.occupancy'] = res['throat.occupancy'] > 0.0\n",
    "    phys_air['pore.occupancy'] = res['pore.occupancy'] > 0.0\n",
    "    phys_water['throat.occupancy'] = res['throat.occupancy'] == 0.0\n",
    "    phys_water['pore.occupancy'] = res['pore.occupancy'] == 0.0\n",
    "    phys_air.regenerate_models(propnames=[prop])\n",
    "    phys_water.regenerate_models(propnames=[prop])\n",
    "    conds_air.append(diffusivity(air, prop))\n",
    "    conds_water.append(diffusivity(water, prop))\n",
    "\n",
    "conds_air = np.asarray(conds_air)/conds_air[-1]\n",
    "conds_water = np.asarray(conds_water)/conds_water[0]\n",
    "plt.figure()\n",
    "plots = []\n",
    "plots.append(plt.plot(1-sats, conds_air, 'r*-', label='air'))\n",
    "plots.append(plt.plot(1-sats, conds_water, 'b*-', label='water'))\n",
    "plt.xlabel('Water Saturation')\n",
    "plt.ylabel('Relative Phase Conductance')\n",
    "plt.title('Withdrawal')\n",
    "ax = plt.gca()\n",
    "ax.legend()\n",
    "wsats = sats\n",
    "wconds_air = conds_air"
   ]
  },
  {
   "cell_type": "markdown",
   "metadata": {},
   "source": [
    "Let's take a look at the data:"
   ]
  },
  {
   "cell_type": "code",
   "execution_count": 10,
   "metadata": {},
   "outputs": [
    {
     "name": "stdout",
     "output_type": "stream",
     "text": [
      "[1.      0.94909 0.89827 0.84705 0.7964  0.74064 0.52508 0.47114 0.4117\n",
      " 0.35314 0.30257 0.25131 0.20064 0.14957 0.09907 0.04884] [0.0571  0.05724 0.0592  0.06805 0.0889  0.15432 0.39212 0.46696 0.54764\n",
      " 0.61043 0.66567 0.75099 0.83467 0.89203 0.96938 1.     ]\n",
      "[1.      0.94909 0.89827 0.84705 0.7964  0.74064 0.52508 0.47114 0.4117\n",
      " 0.35314 0.30257 0.25131 0.20064 0.14957 0.09907 0.04884] [1.00000e+00 9.01047e-01 8.13927e-01 7.21643e-01 6.32059e-01 5.22920e-01\n",
      " 1.88205e-01 9.77726e-02 2.90554e-02 5.14038e-06 3.14779e-06 2.26017e-06\n",
      " 1.25273e-06 1.05061e-06 1.00748e-06 1.00038e-06]\n"
     ]
    }
   ],
   "source": [
    "print(1-sats, conds_air)\n",
    "print(1-sats, conds_water)"
   ]
  },
  {
   "cell_type": "markdown",
   "metadata": {
    "collapsed": true
   },
   "source": [
    "Now we can compare the relative air diffusivity for the two algorithms. When water is the invading phase, this can be likened to  a fuel cell operating at high current density where much water is expelled from the catalyst regions. When air is invading, the cell may be undergoing evaporation, rest or purging."
   ]
  },
  {
   "cell_type": "code",
   "execution_count": 11,
   "metadata": {},
   "outputs": [
    {
     "data": {
      "text/plain": [
       "<matplotlib.legend.Legend at 0x1251df760>"
      ]
     },
     "execution_count": 11,
     "metadata": {},
     "output_type": "execute_result"
    },
    {
     "data": {
      "image/png": "[encoded data removed]",
      "text/plain": [
       "<Figure size 432x288 with 1 Axes>"
      ]
     },
     "metadata": {
      "needs_background": "light"
     },
     "output_type": "display_data"
    }
   ],
   "source": [
    "# NBVAL_IGNORE_OUTPUT\n",
    "plt.figure()\n",
    "plots = []\n",
    "plots.append(plt.plot(isats, iconds_air, 'g^-', label='defender'))\n",
    "plots.append(plt.plot(1-wsats, wconds_air, 'y*-', label='invader'))\n",
    "plt.xlabel('Water Saturation')\n",
    "plt.ylabel('Relative Phase Conductance')\n",
    "plt.title('Air Conductance')\n",
    "ax = plt.gca()\n",
    "ax.legend()"
   ]
  },
  {
   "cell_type": "markdown",
   "metadata": {},
   "source": [
    "Let's take a look at the data:"
   ]
  },
  {
   "cell_type": "code",
   "execution_count": 12,
   "metadata": {},
   "outputs": [
    {
     "name": "stdout",
     "output_type": "stream",
     "text": [
      "[0.      0.05091 0.10173 0.15295 0.2036  0.25936 0.47492 0.52886 0.5883\n",
      " 0.64686 0.69743 0.74869 0.79936 0.85043 0.90093 0.95116] [1.00000e+00 9.00978e-01 8.13846e-01 7.21578e-01 6.31991e-01 5.22833e-01\n",
      " 1.88012e-01 9.76540e-02 2.90092e-02 5.14082e-06 3.14752e-06 2.25989e-06\n",
      " 1.25257e-06 1.05056e-06 1.00746e-06 1.00038e-06]\n",
      "[1.      0.94909 0.89827 0.84705 0.7964  0.74064 0.52508 0.47114 0.4117\n",
      " 0.35314 0.30257 0.25131 0.20064 0.14957 0.09907 0.04884] [0.0571  0.05724 0.0592  0.06805 0.0889  0.15432 0.39212 0.46696 0.54764\n",
      " 0.61043 0.66567 0.75099 0.83467 0.89203 0.96938 1.     ]\n"
     ]
    }
   ],
   "source": [
    "print(isats, iconds_air)\n",
    "print(1-wsats, wconds_air)"
   ]
  },
  {
   "cell_type": "markdown",
   "metadata": {},
   "source": [
    "There is a clear difference in the relative diffusivity, which can be explained by the configuration of the water and the size of the pores occupied by the air. As both phases are slightly non-wetting, invasion proceeds on a largest throat first basis which tend to belong to the larger pores. Therefore the most conductive pores and throats to the defending phase are knocked out first. Hence, when air is defending, it's conductivity suffers more at lower saturations."
   ]
  }
 ],
 "metadata": {
  "@webio": {
   "lastCommId": null,
   "lastKernelId": null
  },
  "kernelspec": {
   "display_name": "Python 3",
   "language": "python",
   "name": "python3"
  },
  "language_info": {
   "codemirror_mode": {
    "name": "ipython",
    "version": 3
   },
   "file_extension": ".py",
   "mimetype": "text/x-python",
   "name": "python",
   "nbconvert_exporter": "python",
   "pygments_lexer": "ipython3",
   "version": "3.8.1"
  }
 },
 "nbformat": 4,
 "nbformat_minor": 2
}
