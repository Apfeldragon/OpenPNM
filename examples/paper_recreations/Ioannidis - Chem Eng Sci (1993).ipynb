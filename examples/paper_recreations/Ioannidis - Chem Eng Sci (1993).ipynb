{
 "cells": [
  {
   "cell_type": "markdown",
   "metadata": {},
   "source": [
    "# BereaCubic"
   ]
  },
  {
   "cell_type": "markdown",
   "metadata": {},
   "source": [
    "This example is reproduction of the paper by Ioannidis and Chatzis: [Network Modelling of Pore Structure and Transport Properties of Porous Media](https://doi.org/10.1016/0009-2509(93)80333-L).\n",
    "\n",
    "In their work, they generated a Cubic lattice network that reproduced the behavior of Berea Sandstone. Berea Sandstone is one of the standard materials used on geoscience studies due to it's importance in oil reservoir engineering as well as having well defined pore structure.  \n",
    "\n",
    "This example illustrates how to use OpenPNM to generate a network model of Berea using the BereaCubic class, with the appropriate lattice spacing and geometrical properties.\n"
   ]
  },
  {
   "cell_type": "code",
   "execution_count": 16,
   "metadata": {},
   "outputs": [],
   "source": [
    "import openpnm as op\n",
    "import numpy as np\n",
    "import scipy as sp\n",
    "import matplotlib.pyplot as plt\n",
    "from matplotlib import image"
   ]
  },
  {
   "cell_type": "markdown",
   "metadata": {},
   "source": [
    "OpenPNM V2 includes a ``materials`` module that contains *recipes* for numerous commonly used porous materials.  Because the network topology and geometry are tightly coupled, these recipes return both a ``network`` and a ``geometry``, packaged together in a ``project``.  This is illustrated for ``BereaCubic`` as follows:"
   ]
  },
  {
   "cell_type": "code",
   "execution_count": null,
   "metadata": {},
   "outputs": [],
   "source": [
    "proj = op.materials.BereaCubic(shape=[15, 15, 15])"
   ]
  },
  {
   "cell_type": "markdown",
   "metadata": {},
   "source": [
    "An OpenPNM `project` is a Python `list` containing the network and all the associated objects.  Printing it reveals that it contains a network and a geometry:"
   ]
  },
  {
   "cell_type": "code",
   "execution_count": 6,
   "metadata": {},
   "outputs": [
    {
     "name": "stdout",
     "output_type": "stream",
     "text": [
      "――――――――――――――――――――――――――――――――――――――――――――――――――――――――――――――――――――――――――――――\n",
      " Object Name     Object ID                                                        \n",
      "――――――――――――――――――――――――――――――――――――――――――――――――――――――――――――――――――――――――――――――\n",
      " net_01          <openpnm.network.Cubic object at 0x292cde23728>                  \n",
      " geo_01          <openpnm.geometry.GenericGeometry object at 0x292c46159e8>       \n",
      "――――――――――――――――――――――――――――――――――――――――――――――――――――――――――――――――――――――――――――――\n"
     ]
    }
   ],
   "source": [
    "print(proj)"
   ]
  },
  {
   "cell_type": "markdown",
   "metadata": {},
   "source": [
    "The network and geometry objects can be fetched from the list and stored in corresponding handles:"
   ]
  },
  {
   "cell_type": "code",
   "execution_count": 7,
   "metadata": {},
   "outputs": [],
   "source": [
    "net = proj.network\n",
    "geo = proj[1]"
   ]
  },
  {
   "cell_type": "markdown",
   "metadata": {},
   "source": [
    "The network object can be printed as shown below.  "
   ]
  },
  {
   "cell_type": "code",
   "execution_count": 4,
   "metadata": {},
   "outputs": [
    {
     "name": "stdout",
     "output_type": "stream",
     "text": [
      "――――――――――――――――――――――――――――――――――――――――――――――――――――――――――――――――――――――――――――――\n",
      "openpnm.network.Cubic : net_01\n",
      "――――――――――――――――――――――――――――――――――――――――――――――――――――――――――――――――――――――――――――――\n",
      "#     Properties                                    Valid Values\n",
      "――――――――――――――――――――――――――――――――――――――――――――――――――――――――――――――――――――――――――――――\n",
      "1     pore.coords                                    3375 / 3375 \n",
      "2     throat.conns                                   9450 / 9450 \n",
      "――――――――――――――――――――――――――――――――――――――――――――――――――――――――――――――――――――――――――――――\n",
      "#     Labels                                        Assigned Locations\n",
      "――――――――――――――――――――――――――――――――――――――――――――――――――――――――――――――――――――――――――――――\n",
      "1     pore.all                                      3375      \n",
      "2     pore.back                                     225       \n",
      "3     pore.bottom                                   225       \n",
      "4     pore.front                                    225       \n",
      "5     pore.geo_01                                   3375      \n",
      "6     pore.internal                                 3375      \n",
      "7     pore.left                                     225       \n",
      "8     pore.right                                    225       \n",
      "9     pore.surface                                  1178      \n",
      "10    pore.top                                      225       \n",
      "11    throat.all                                    9450      \n",
      "12    throat.dir_x                                  3150      \n",
      "13    throat.dir_y                                  3150      \n",
      "14    throat.dir_z                                  3150      \n",
      "15    throat.geo_01                                 9450      \n",
      "16    throat.internal                               9450      \n",
      "17    throat.surface                                2352      \n",
      "――――――――――――――――――――――――――――――――――――――――――――――――――――――――――――――――――――――――――――――\n"
     ]
    }
   ],
   "source": [
    "print(net)"
   ]
  },
  {
   "cell_type": "markdown",
   "metadata": {},
   "source": [
    "We can also inspect the geometry object, which contains all the geometrical information such as pore size distributions."
   ]
  },
  {
   "cell_type": "code",
   "execution_count": 42,
   "metadata": {},
   "outputs": [
    {
     "name": "stdout",
     "output_type": "stream",
     "text": [
      "――――――――――――――――――――――――――――――――――――――――――――――――――――――――――――――――――――――――――――――\n",
      "openpnm.geometry.GenericGeometry : geo_01\n",
      "――――――――――――――――――――――――――――――――――――――――――――――――――――――――――――――――――――――――――――――\n",
      "#     Properties                                    Valid Values\n",
      "――――――――――――――――――――――――――――――――――――――――――――――――――――――――――――――――――――――――――――――\n",
      "1     pore.seed                                      3375 / 3375 \n",
      "2     pore.size_x                                    3375 / 3375 \n",
      "3     pore.size_y                                    3375 / 3375 \n",
      "4     pore.size_z                                    3375 / 3375 \n",
      "5     pore.volume                                    3375 / 3375 \n",
      "6     throat.area                                    9450 / 9450 \n",
      "7     throat.height                                  9450 / 9450 \n",
      "8     throat.length                                  9450 / 9450 \n",
      "9     throat.seed                                    9450 / 9450 \n",
      "10    throat.size                                    9450 / 9450 \n",
      "11    throat.size_x                                  9450 / 9450 \n",
      "12    throat.size_y                                  9450 / 9450 \n",
      "13    throat.size_z                                  9450 / 9450 \n",
      "14    throat.volume                                  9450 / 9450 \n",
      "15    throat.width                                   9450 / 9450 \n",
      "――――――――――――――――――――――――――――――――――――――――――――――――――――――――――――――――――――――――――――――\n",
      "#     Labels                                        Assigned Locations\n",
      "――――――――――――――――――――――――――――――――――――――――――――――――――――――――――――――――――――――――――――――\n",
      "1     pore.all                                      3375      \n",
      "2     throat.all                                    9450      \n",
      "――――――――――――――――――――――――――――――――――――――――――――――――――――――――――――――――――――――――――――――\n"
     ]
    }
   ],
   "source": [
    "print(geo)"
   ]
  },
  {
   "cell_type": "markdown",
   "metadata": {},
   "source": [
    "Let's look at the distribution of pore and throat sizes in the system, and compare with those from the original paper:"
   ]
  },
  {
   "cell_type": "code",
   "execution_count": 45,
   "metadata": {},
   "outputs": [
    {
     "data": {
      "text/plain": [
       "(-0.5, 1097.5, 719.5, -0.5)"
      ]
     },
     "execution_count": 45,
     "metadata": {},
     "output_type": "execute_result"
    },
    {
     "data": {
      "image/png": "[encoded data removed]",
      "text/plain": [
       "<Figure size 720x360 with 2 Axes>"
      ]
     },
     "metadata": {
      "needs_background": "light"
     },
     "output_type": "display_data"
    }
   ],
   "source": [
    "fig, ax = plt.subplots(1, 2, figsize=[10, 5])\n",
    "f = ax[0].hist(x=geo['throat.size']*1e6, bins=25,\n",
    "               weights=geo['throat.volume']*(1e3)**3, edgecolor='k')\n",
    "f = ax[0].hist(x=geo['pore.size_z']*1e6, bins=25,\n",
    "               weights=geo['pore.volume']*(1e3)**3, edgecolor='k')\n",
    "\n",
    "from skimage import io\n",
    "file = r\"C:\\Users\\Jeff\\Dropbox\\Flash Sync\\Code\\Git\\OpenPNM\\examples\\fixtures\\Figure 16.png\"\n",
    "im = io.imread(file, as_gray=True)\n",
    "ax[1].imshow(im, cmap=plt.cm.gray)\n",
    "ax[1].axis('off')"
   ]
  },
  {
   "cell_type": "markdown",
   "metadata": {},
   "source": [
    "Next we'll run some simulations to validate the geometry against results in the source paper.  To do this we start by adding phase object that contain the physical properties of the fluids, and physics objects which will be *generic* classes to start and we'll add the appropriate models later:"
   ]
  },
  {
   "cell_type": "code",
   "execution_count": 46,
   "metadata": {},
   "outputs": [],
   "source": [
    "hg = op.phases.Mercury(network=net)\n",
    "air = op.phases.Air(network=net)\n",
    "water = op.phases.Water(network=net)\n",
    "hg['throat.contact_angle'] = 140\n",
    "hg['throat.surface_tension'] = 0.48\n",
    "water['throat.viscosity'] = 0.0001\n",
    "\n",
    "phys_air = op.physics.GenericPhysics(network=net, phase=air, geometry=geo)\n",
    "phys_hg = op.physics.GenericPhysics(network=net, phase=hg, geometry=geo)\n",
    "phys_water = op.physics.GenericPhysics(network=net, phase=water, geometry=geo)\n"
   ]
  },
  {
   "cell_type": "markdown",
   "metadata": {},
   "source": [
    "First, let's compare mercury intrusion capillary pressure curves.  One key feature of the original paper is that pore and throats are cuboids with a specified aspect ratio (i.e. flattened).  This shape affects both transport and capillary properties.  In terms of capillary pressure, the normally used Washburn eqauation ($Pc=-2\\sigma cos(\\theta) / R $) must be modified since the throat opening has two principle radii of curvature.  Thus, the capillary entry pressure is:\n",
    "\n",
    "$$ Pc = -\\sigma cos(\\theta) \\bigg(\\frac{1}{R_1} + \\frac{1}{R_2}\\bigg) $$\n",
    "\n",
    "This equation is implemented in ``openpnm.models.physics.capillary_pressure.washburn_slit``.  It is applied as follows:"
   ]
  },
  {
   "cell_type": "code",
   "execution_count": 47,
   "metadata": {},
   "outputs": [
    {
     "name": "stderr",
     "output_type": "stream",
     "text": [
      "================================================================================\n",
      "WARNING    : Inlets have non-zero volume, percolation curve will not start at 0 \n",
      "SOURCE     : openpnm.algorithms.OrdinaryPercolation.get_intrusion_data \n",
      "TIME STAMP : 2020-02-09 23:39:28,037\n",
      "================================================================================\n"
     ]
    },
    {
     "data": {
      "image/png": "[encoded data removed]",
      "text/plain": [
       "<Figure size 432x288 with 1 Axes>"
      ]
     },
     "metadata": {
      "needs_background": "light"
     },
     "output_type": "display_data"
    }
   ],
   "source": [
    "mod = op.models.physics.capillary_pressure.washburn_slit\n",
    "phys_hg.add_model(propname='throat.entry_pressure', model=mod)\n",
    "\n",
    "mip = op.algorithms.Porosimetry(network=net)\n",
    "mip.setup(phase=hg)\n",
    "mip.set_inlets(net.pores(['top', 'bottom']))\n",
    "mip.run(points=25)\n",
    "fig = mip.plot_intrusion_curve()"
   ]
  },
  {
   "cell_type": "markdown",
   "metadata": {},
   "source": [
    "Now we can calculate directional permeability of the network using a modified version of the Hagen-Poiseulle equation to calculate throat and pore hydraulic conductances to account for the unequal aspect ratio of the throat. The equations are implemented in `openpnm.models.physics.hydraulic_conductance.hagen_poiseuille_slit` and are applied as follows:"
   ]
  },
  {
   "cell_type": "code",
   "execution_count": 49,
   "metadata": {},
   "outputs": [],
   "source": [
    "mod = op.models.physics.hydraulic_conductance.hagen_poiseuille_slit\n",
    "phys_water.add_model(propname='throat.hydraulic_conductance', model=mod)"
   ]
  },
  {
   "cell_type": "code",
   "execution_count": 51,
   "metadata": {},
   "outputs": [],
   "source": [
    "Nx, Ny, Nz = net.shape\n",
    "Lx, Ly, Lz = net.spacing"
   ]
  },
  {
   "cell_type": "code",
   "execution_count": 52,
   "metadata": {},
   "outputs": [
    {
     "name": "stdout",
     "output_type": "stream",
     "text": [
      "The permeability coefficient is: [247.53977533] mD\n"
     ]
    }
   ],
   "source": [
    "alg = op.algorithms.StokesFlow(network=net, phase=water)\n",
    "BC1_pores = net.pores('pore.front')\n",
    "alg.set_value_BC(values=202650, pores=BC1_pores)\n",
    "BC2_pores = net.pores('pore.back')\n",
    "alg.set_value_BC(values=101325, pores=BC2_pores)\n",
    "alg.run()\n",
    "Q = alg.rate(pores=net.pores('front'))\n",
    "\n",
    "A = (Ly*Lz)*(Ny*Nz)\n",
    "L = Lx*Nx\n",
    "mu = sp.mean(water['throat.viscosity'])\n",
    "Kxx = Q*mu*L/(A*101325)\n",
    "print(\"The permeability coefficient is:\", Kxx/1e-15, 'mD')"
   ]
  },
  {
   "cell_type": "markdown",
   "metadata": {},
   "source": [
    "The reported value is 344 mD"
   ]
  },
  {
   "cell_type": "markdown",
   "metadata": {},
   "source": [
    "Calculating porosity - Network porosity is the ratio of void volume (sum of throat and pore volumes) to the bulk volume and is implemented as follows: "
   ]
  },
  {
   "cell_type": "code",
   "execution_count": 53,
   "metadata": {},
   "outputs": [
    {
     "name": "stdout",
     "output_type": "stream",
     "text": [
      "The porosity is: 0.17410493257743498\n"
     ]
    }
   ],
   "source": [
    "Vp = geo['pore.volume'][net.Ps]\n",
    "Vt = geo['throat.volume'][net.Ts]\n",
    "Vps = sp.sum(Vp)\n",
    "Vts = sp.sum(Vt)\n",
    "Vt = Vps + Vts\n",
    "Vb = Nx*Ny*Nz*Lx*Ly*Lz\n",
    "e = Vt/Vb\n",
    "print(\"The porosity is:\", e)"
   ]
  },
  {
   "cell_type": "markdown",
   "metadata": {},
   "source": [
    "Calculating Formation Factor - To calculate the Formation Factor we have made electrcal conductance model using a rectangular geometry for throats and square flattened geometry for the pores. For the pores we are using a truncated pyramid shape and average out the areas at the inlet and outlet. The equations are implemented in `openpnm.models.physics.electrical_conductance.slit` and are implemented as follows:"
   ]
  },
  {
   "cell_type": "code",
   "execution_count": 54,
   "metadata": {},
   "outputs": [
    {
     "name": "stdout",
     "output_type": "stream",
     "text": [
      "The formation factor is: [33.36962538]\n"
     ]
    }
   ],
   "source": [
    "mod = op.models.physics.electrical_conductance.slit\n",
    "phys_water.add_model(propname='throat.electrical_conductance', model=mod)\n",
    "\n",
    "Om = op.algorithms.OhmicConduction(network=net, phase=water)\n",
    "BC1_pores = net.pores('pore.front')\n",
    "Om.set_value_BC(values=20, pores=BC1_pores)\n",
    "BC2_pores = net.pores('pore.back')\n",
    "Om.set_value_BC(values=0, pores=BC2_pores)\n",
    "Om.run()\n",
    "I = Om.rate(pores=net.pores('front'))\n",
    "\n",
    "A = (Ly*Lz)*Ny*Nz\n",
    "L = Lx*Nx\n",
    "delta_V = 20\n",
    "Rnet = delta_V*A/(I*L)\n",
    "F = Rnet\n",
    "print(\"The formation factor is:\", F)"
   ]
  },
  {
   "cell_type": "markdown",
   "metadata": {},
   "source": [
    "The reported value is 24.7."
   ]
  }
 ],
 "metadata": {
  "kernelspec": {
   "display_name": "Python 3",
   "language": "python",
   "name": "python3"
  },
  "language_info": {
   "codemirror_mode": {
    "name": "ipython",
    "version": 3
   },
   "file_extension": ".py",
   "mimetype": "text/x-python",
   "name": "python",
   "nbconvert_exporter": "python",
   "pygments_lexer": "ipython3",
   "version": "3.7.3"
  }
 },
 "nbformat": 4,
 "nbformat_minor": 2
}
