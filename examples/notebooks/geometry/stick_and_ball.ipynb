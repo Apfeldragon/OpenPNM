{
 "cells": [
  {
   "cell_type": "markdown",
   "metadata": {},
   "source": [
    "# The Stick and Ball Geometry\n",
    "\n",
    "The ``StickAndBall`` class contains an assortment of pore-scale models that generate geometrical information assuming the pores are spherical and throats are cylindrical. \n",
    "\n",
    "The ``StickAndBall`` is a perfect starting point for generating your own custom geometry.  In fact, it's likely that only the calculation of 'pore.diameter' would need to be changed.  By default the 'pore.diameter' values are drawn from a random distribution which is not very realistic.  Luckily, it's easy to update the model used to calculate diameter, and then propagate this change to all the dependent values (i.e. 'pore.volume'), as illustrated below."
   ]
  },
  {
   "cell_type": "code",
   "execution_count": 1,
   "metadata": {},
   "outputs": [],
   "source": [
    "import openpnm as op\n",
    "import matplotlib.pyplot as plt"
   ]
  },
  {
   "cell_type": "code",
   "execution_count": 2,
   "metadata": {},
   "outputs": [],
   "source": [
    "pn = op.network.Cubic(shape=[20, 20, 20], spacing=100)"
   ]
  },
  {
   "cell_type": "markdown",
   "metadata": {},
   "source": [
    "> The spacing of the above network is in um for this example to make values easier to read, but in general you should always use SI"
   ]
  },
  {
   "cell_type": "markdown",
   "metadata": {},
   "source": [
    "Now we can create a geometry object based on the ``StickAndBall``:"
   ]
  },
  {
   "cell_type": "code",
   "execution_count": 3,
   "metadata": {},
   "outputs": [],
   "source": [
    "geo = op.geometry.StickAndBall(network=pn, pores=pn.Ps, throats=pn.Ts)"
   ]
  },
  {
   "cell_type": "markdown",
   "metadata": {},
   "source": [
    "As can be seen by printing it, there are quite a few geometrical properties already added to this object.  Defining these manually would have been a pain, so it's a good idea to start with this class then alter the few models that need it:"
   ]
  },
  {
   "cell_type": "code",
   "execution_count": 4,
   "metadata": {},
   "outputs": [
    {
     "name": "stdout",
     "output_type": "stream",
     "text": [
      "――――――――――――――――――――――――――――――――――――――――――――――――――――――――――――――――――――――――――――――\n",
      "openpnm.geometry.StickAndBall : geo_01\n",
      "――――――――――――――――――――――――――――――――――――――――――――――――――――――――――――――――――――――――――――――\n",
      "#     Properties                                    Valid Values\n",
      "――――――――――――――――――――――――――――――――――――――――――――――――――――――――――――――――――――――――――――――\n",
      "1     pore.area                                      8000 / 8000 \n",
      "2     pore.diameter                                  8000 / 8000 \n",
      "3     pore.max_size                                  8000 / 8000 \n",
      "4     pore.seed                                      8000 / 8000 \n",
      "5     pore.volume                                    8000 / 8000 \n",
      "6     throat.area                                   22800 / 22800\n",
      "7     throat.conduit_lengths.pore1                  22800 / 22800\n",
      "8     throat.conduit_lengths.pore2                  22800 / 22800\n",
      "9     throat.conduit_lengths.throat                 22800 / 22800\n",
      "10    throat.diameter                               22800 / 22800\n",
      "11    throat.endpoints.head                         22800 / 22800\n",
      "12    throat.endpoints.tail                         22800 / 22800\n",
      "13    throat.length                                 22800 / 22800\n",
      "14    throat.max_size                               22800 / 22800\n",
      "15    throat.surface_area                           22800 / 22800\n",
      "16    throat.volume                                 22800 / 22800\n",
      "――――――――――――――――――――――――――――――――――――――――――――――――――――――――――――――――――――――――――――――\n",
      "#     Labels                                        Assigned Locations\n",
      "――――――――――――――――――――――――――――――――――――――――――――――――――――――――――――――――――――――――――――――\n",
      "1     pore.all                                      8000      \n",
      "2     throat.all                                    22800     \n",
      "――――――――――――――――――――――――――――――――――――――――――――――――――――――――――――――――――――――――――――――\n"
     ]
    }
   ],
   "source": [
    "print(geo)"
   ]
  },
  {
   "cell_type": "markdown",
   "metadata": {},
   "source": [
    "The pore size distribution on the ``StickAndBall`` is probably the more likely thing to change, since it is a random (i.e. uniform distribution) as shown below:"
   ]
  },
  {
   "cell_type": "code",
   "execution_count": 5,
   "metadata": {},
   "outputs": [
    {
     "data": {
      "image/png": "[encoded data removed]",
      "text/plain": [
       "<Figure size 432x288 with 1 Axes>"
      ]
     },
     "metadata": {
      "needs_background": "light"
     },
     "output_type": "display_data"
    }
   ],
   "source": [
    "fig = plt.hist(geo['pore.diameter'], bins=25, edgecolor='k')"
   ]
  },
  {
   "cell_type": "markdown",
   "metadata": {},
   "source": [
    "The models on the ``geo`` object can be seen by printing them:"
   ]
  },
  {
   "cell_type": "code",
   "execution_count": 6,
   "metadata": {},
   "outputs": [
    {
     "name": "stdout",
     "output_type": "stream",
     "text": [
      "―――――――――――――――――――――――――――――――――――――――――――――――――――――――――――――――――――――――――――――――――――――\n",
      "#   Property Name                       Parameter                 Value\n",
      "―――――――――――――――――――――――――――――――――――――――――――――――――――――――――――――――――――――――――――――――――――――\n",
      "1   pore.seed                           model:                    random\n",
      "                                        element:                  pore\n",
      "                                        num_range:                [0.2, 0.7]\n",
      "                                        seed:                     None\n",
      "                                        regeneration mode:        normal\n",
      "―――――――――――――――――――――――――――――――――――――――――――――――――――――――――――――――――――――――――――――――――――――\n",
      "2   pore.max_size                       model:                    largest_sphere\n",
      "                                        iters:                    10\n",
      "                                        fixed_diameter:           pore.fixed_diameter\n",
      "                                        regeneration mode:        normal\n",
      "―――――――――――――――――――――――――――――――――――――――――――――――――――――――――――――――――――――――――――――――――――――\n",
      "3   pore.diameter                       model:                    product\n",
      "                                        prop1:                    pore.max_size\n",
      "                                        prop2:                    pore.seed\n",
      "                                        regeneration mode:        normal\n",
      "―――――――――――――――――――――――――――――――――――――――――――――――――――――――――――――――――――――――――――――――――――――\n",
      "4   pore.area                           model:                    sphere\n",
      "                                        pore_diameter:            pore.diameter\n",
      "                                        regeneration mode:        normal\n",
      "―――――――――――――――――――――――――――――――――――――――――――――――――――――――――――――――――――――――――――――――――――――\n",
      "5   pore.volume                         model:                    sphere\n",
      "                                        pore_diameter:            pore.diameter\n",
      "                                        regeneration mode:        normal\n",
      "―――――――――――――――――――――――――――――――――――――――――――――――――――――――――――――――――――――――――――――――――――――\n",
      "6   throat.max_size                     model:                    from_neighbor_pores\n",
      "                                        mode:                     min\n",
      "                                        pore_prop:                pore.diameter\n",
      "                                        prop:                     None\n",
      "                                        ignore_nans:              True\n",
      "                                        regeneration mode:        normal\n",
      "―――――――――――――――――――――――――――――――――――――――――――――――――――――――――――――――――――――――――――――――――――――\n",
      "7   throat.diameter                     model:                    scaled\n",
      "                                        factor:                   0.5\n",
      "                                        prop:                     throat.max_size\n",
      "                                        regeneration mode:        normal\n",
      "―――――――――――――――――――――――――――――――――――――――――――――――――――――――――――――――――――――――――――――――――――――\n",
      "8   throat.endpoints                    model:                    spherical_pores\n",
      "                                        pore_diameter:            pore.diameter\n",
      "                                        throat_diameter:          throat.diameter\n",
      "                                        throat_centroid:          throat.centroid\n",
      "                                        regeneration mode:        normal\n",
      "―――――――――――――――――――――――――――――――――――――――――――――――――――――――――――――――――――――――――――――――――――――\n",
      "9   throat.length                       model:                    piecewise\n",
      "                                        throat_endpoints:         throat.endpoints\n",
      "                                        throat_centroid:          throat.centroid\n",
      "                                        regeneration mode:        normal\n",
      "―――――――――――――――――――――――――――――――――――――――――――――――――――――――――――――――――――――――――――――――――――――\n",
      "10  throat.surface_area                 model:                    cylinder\n",
      "                                        throat_diameter:          throat.diameter\n",
      "                                        throat_length:            throat.length\n",
      "                                        regeneration mode:        normal\n",
      "―――――――――――――――――――――――――――――――――――――――――――――――――――――――――――――――――――――――――――――――――――――\n",
      "11  throat.volume                       model:                    cylinder\n",
      "                                        throat_diameter:          throat.diameter\n",
      "                                        throat_length:            throat.length\n",
      "                                        regeneration mode:        normal\n",
      "―――――――――――――――――――――――――――――――――――――――――――――――――――――――――――――――――――――――――――――――――――――\n",
      "12  throat.area                         model:                    cylinder\n",
      "                                        throat_diameter:          throat.diameter\n",
      "                                        regeneration mode:        normal\n",
      "―――――――――――――――――――――――――――――――――――――――――――――――――――――――――――――――――――――――――――――――――――――\n",
      "13  throat.conduit_lengths              model:                    conduit_lengths\n",
      "                                        throat_endpoints:         throat.endpoints\n",
      "                                        throat_length:            throat.length\n",
      "                                        throat_centroid:          throat.centroid\n",
      "                                        regeneration mode:        normal\n",
      "―――――――――――――――――――――――――――――――――――――――――――――――――――――――――――――――――――――――――――――――――――――\n"
     ]
    }
   ],
   "source": [
    "print(geo.models)"
   ]
  },
  {
   "cell_type": "markdown",
   "metadata": {},
   "source": [
    "In this tutorial we will change how pore sizes are calculated.  We can do this by assigning a new pore-scale model for 'pore.diameter'.  Let's use  Gaussian distribution:"
   ]
  },
  {
   "cell_type": "code",
   "execution_count": 7,
   "metadata": {},
   "outputs": [],
   "source": [
    "f = op.models.geometry.pore_size.normal\n",
    "geo.add_model(propname='pore.diameter', \n",
    "              model=f,\n",
    "              loc=50, scale=10)"
   ]
  },
  {
   "cell_type": "markdown",
   "metadata": {},
   "source": [
    "This model is automatically run when it's assigned, so we can inspect the new pore diameter values:"
   ]
  },
  {
   "cell_type": "code",
   "execution_count": 8,
   "metadata": {},
   "outputs": [
    {
     "data": {
      "image/png": "[encoded data removed]",
      "text/plain": [
       "<Figure size 432x288 with 1 Axes>"
      ]
     },
     "metadata": {
      "needs_background": "light"
     },
     "output_type": "display_data"
    }
   ],
   "source": [
    "fig = plt.hist(geo['pore.diameter'], bins=25, edgecolor='k')"
   ]
  },
  {
   "cell_type": "markdown",
   "metadata": {},
   "source": [
    "The above distribution does not look very much like a Gaussian distribution.  This is because the 'pore.seed' values are truncated between 0.2 and 0.7:"
   ]
  },
  {
   "cell_type": "code",
   "execution_count": 9,
   "metadata": {},
   "outputs": [
    {
     "name": "stdout",
     "output_type": "stream",
     "text": [
      "――――――――――――――――――――――――――――――――――――――――――――――――――――――――――――――――――――――――――――――\n",
      "Property Name             Parameter                 Value\n",
      "――――――――――――――――――――――――――――――――――――――――――――――――――――――――――――――――――――――――――――――\n",
      "pore.seed                 model:                    random\n",
      "                          element:                  pore\n",
      "                          num_range:                [0.2, 0.7]\n",
      "                          seed:                     None\n",
      "                          regeneration mode:        normal\n",
      "――――――――――――――――――――――――――――――――――――――――――――――――――――――――――――――――――――――――――――――\n"
     ]
    }
   ],
   "source": [
    "print(geo.models['pore.seed'])"
   ]
  },
  {
   "cell_type": "markdown",
   "metadata": {},
   "source": [
    "We should change this to a wider range to capture more pores on the \"tails\", then call ``regenerate_models``, which will not only regenerate the random numbers, but all the other properties that depend on it such as 'pore.diameter', 'pore.volume', and so on:"
   ]
  },
  {
   "cell_type": "code",
   "execution_count": 10,
   "metadata": {},
   "outputs": [
    {
     "data": {
      "image/png": "[encoded data removed]",
      "text/plain": [
       "<Figure size 432x288 with 1 Axes>"
      ]
     },
     "metadata": {
      "needs_background": "light"
     },
     "output_type": "display_data"
    }
   ],
   "source": [
    "geo.models['pore.seed']['num_range'] = [0.001, 0.999]\n",
    "geo.regenerate_models()\n",
    "fig = plt.hist(geo['pore.diameter'], bins=25, edgecolor='k')"
   ]
  },
  {
   "cell_type": "markdown",
   "metadata": {},
   "source": [
    "A detailed example of adjusting pore-size distributions is given [here](./adjusting_pore_size_distributions.ipynb)"
   ]
  }
 ],
 "metadata": {
  "@webio": {
   "lastCommId": null,
   "lastKernelId": null
  },
  "kernelspec": {
   "display_name": "Python 3",
   "language": "python",
   "name": "python3"
  },
  "language_info": {
   "codemirror_mode": {
    "name": "ipython",
    "version": 3
   },
   "file_extension": ".py",
   "mimetype": "text/x-python",
   "name": "python",
   "nbconvert_exporter": "python",
   "pygments_lexer": "ipython3",
   "version": "3.8.3"
  }
 },
 "nbformat": 4,
 "nbformat_minor": 4
}
