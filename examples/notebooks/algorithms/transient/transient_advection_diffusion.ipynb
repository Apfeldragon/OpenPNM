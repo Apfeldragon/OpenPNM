{
 "cells": [
  {
   "cell_type": "markdown",
   "metadata": {},
   "source": [
    "# Transient Advection-Diffusion\n",
    "This example will show how to preform a transient advection-diffusion simulation on a 2D Cubic network."
   ]
  },
  {
   "cell_type": "code",
   "execution_count": 1,
   "metadata": {},
   "outputs": [],
   "source": [
    "import openpnm as op\n",
    "import numpy as np\n",
    "np.random.seed(0)\n",
    "import matplotlib.pyplot as plt\n",
    "%matplotlib inline\n",
    "np.set_printoptions(precision=3)"
   ]
  },
  {
   "cell_type": "markdown",
   "metadata": {},
   "source": [
    "# Generating Network\n",
    "A 2D 40 X 40 ``Cubic`` network is generated with a spacing of $10^{-4}$m, but a 3D network would work as well. The geometry, phase, and physics are also defined as follows."
   ]
  },
  {
   "cell_type": "code",
   "execution_count": 2,
   "metadata": {},
   "outputs": [],
   "source": [
    "pn = op.network.Cubic(shape=[40, 40], spacing=1e-4)\n",
    "geo = op.geometry.StickAndBall(network=pn, pores=pn.Ps, throats=pn.Ts)\n",
    "water = op.phases.Water(network=pn)\n",
    "phys = op.physics.Standard(network=pn, phase=water, geometry=geo)"
   ]
  },
  {
   "cell_type": "markdown",
   "metadata": {},
   "source": [
    "# Perform Stokes flow\n",
    "The advection diffusion algorithm assumes a velocity field. Therefore, Stokes flow in the pore netwok is solved. The ``StokesFlow`` algorthm is solved prior to running the ``AdvectionDiffusion`` algorthim. For more information there is a seperate tutorial on Stokes Flow."
   ]
  },
  {
   "cell_type": "code",
   "execution_count": 3,
   "metadata": {},
   "outputs": [],
   "source": [
    "sf = op.algorithms.StokesFlow(network=pn, phase=water,)\n",
    "sf.set_value_BC(pores=pn.pores('front'), values=50.0)\n",
    "sf.set_value_BC(pores=pn.pores('back'), values=0)\n",
    "sf.run();"
   ]
  },
  {
   "cell_type": "markdown",
   "metadata": {},
   "source": [
    "The results obtained from the StokesFlow algorthim must be attached to the water phase."
   ]
  },
  {
   "cell_type": "code",
   "execution_count": 4,
   "metadata": {},
   "outputs": [],
   "source": [
    "water.update(sf.results())"
   ]
  },
  {
   "cell_type": "markdown",
   "metadata": {},
   "source": [
    "# Add Diffusive Conductance Model"
   ]
  },
  {
   "cell_type": "code",
   "execution_count": 5,
   "metadata": {},
   "outputs": [],
   "source": [
    "mod = op.models.physics.ad_dif_conductance.ad_dif\n",
    "phys.add_model(propname='throat.ad_dif_conductance', model=mod, s_scheme='powerlaw')"
   ]
  },
  {
   "cell_type": "markdown",
   "metadata": {},
   "source": [
    "# Define Transient Advection Diffusion\n",
    "An algorthim for transient advection diffusion is defined here. It is assigned to the network and the phase, and will be able to retrieve all information that will be needed."
   ]
  },
  {
   "cell_type": "code",
   "execution_count": 6,
   "metadata": {},
   "outputs": [],
   "source": [
    "ad = op.algorithms.TransientAdvectionDiffusion(network=pn, phase=water) "
   ]
  },
  {
   "cell_type": "markdown",
   "metadata": {},
   "source": [
    "The Dirichlet boundery conditions and the inital conditions are next defined as follows. If the inital condition is not defined then it is assumed to be zero, so it is redundunt in this case. The boundary conditions can be defined as ``value``, ``outflow``, and ``rate``."
   ]
  },
  {
   "cell_type": "code",
   "execution_count": 7,
   "metadata": {},
   "outputs": [],
   "source": [
    "inlet  = pn.pores('front') \n",
    "outlet = pn.pores('back')\n",
    "ad.set_value_BC(pores=inlet, values=1.0)\n",
    "ad.set_outflow_BC(pores=outlet)\n",
    "ad.set_IC(0)"
   ]
  },
  {
   "cell_type": "markdown",
   "metadata": {},
   "source": [
    "# Setup the Transient Algorithim\n",
    "The settings of the transient algorthim can be updated here. The time discretazition scheme, t_scheme, is set to cranknicolson which is second-order accurate in time. The other two settings for t_scheme are implicit (which is first order, and therefore faster but less accurate) and steady, which will be a steady-state simulation.\n",
    "\n",
    "The other parameters defined are the final time step, t_final, the outputing time stepping t_output, the time step ``t_step``, and the tolerance to be achieved before reaching steady state t_tolerance.\n"
   ]
  },
  {
   "cell_type": "code",
   "execution_count": 8,
   "metadata": {},
   "outputs": [],
   "source": [
    "tf = 100\n",
    "tstep = 5\n",
    "ad.setup(t_scheme='cranknicolson', t_final=tf, t_output=5, t_step=tstep, t_tolerance=1e-12)"
   ]
  },
  {
   "cell_type": "markdown",
   "metadata": {},
   "source": [
    "The algorthim than can be run."
   ]
  },
  {
   "cell_type": "code",
   "execution_count": 9,
   "metadata": {},
   "outputs": [],
   "source": [
    "ad.run()"
   ]
  },
  {
   "cell_type": "markdown",
   "metadata": {},
   "source": [
    "We can print the algorthims settings as follows:"
   ]
  },
  {
   "cell_type": "code",
   "execution_count": 10,
   "metadata": {},
   "outputs": [
    {
     "name": "stdout",
     "output_type": "stream",
     "text": [
      "――――――――――――――――――――――――――――――――――――――――――――――――――――――――――――――――――――――――――――――\n",
      "key                                 value\n",
      "――――――――――――――――――――――――――――――――――――――――――――――――――――――――――――――――――――――――――――――\n",
      "name                                alg_02\n",
      "cache_A                             True\n",
      "cache_b                             True\n",
      "conductance                         throat.ad_dif_conductance\n",
      "phase                               phase_01\n",
      "quantity                            pore.concentration\n",
      "solver_atol                         None\n",
      "solver_family                       pypardiso\n",
      "solver_max_iter                     5000\n",
      "solver_preconditioner               jacobi\n",
      "solver_rtol                         None\n",
      "solver_tol                          1e-08\n",
      "solver_type                         spsolve\n",
      "prefix                              alg\n",
      "nlin_max_iter                       5000\n",
      "relaxation_quantity                 1.0\n",
      "relaxation_source                   1.0\n",
      "sources                             []\n",
      "variable_props                      []\n",
      "diffusive_conductance               throat.diffusive_conductance\n",
      "hydraulic_conductance               throat.hydraulic_conductance\n",
      "pressure                            pore.pressure\n",
      "s_scheme                            exponential\n",
      "pore_volume                         pore.volume\n",
      "t_final                             100\n",
      "t_initial                           0\n",
      "t_output                            5\n",
      "t_precision                         12\n",
      "t_scheme                            cranknicolson\n",
      "t_step                              5\n",
      "t_tolerance                         1e-12\n",
      "――――――――――――――――――――――――――――――――――――――――――――――――――――――――――――――――――――――――――――――\n"
     ]
    }
   ],
   "source": [
    "print(ad.settings)"
   ]
  },
  {
   "cell_type": "markdown",
   "metadata": {},
   "source": [
    "The solution at eveery time step is stored in the algorthim, and can be printed as follows."
   ]
  },
  {
   "cell_type": "code",
   "execution_count": 11,
   "metadata": {},
   "outputs": [
    {
     "name": "stdout",
     "output_type": "stream",
     "text": [
      "――――――――――――――――――――――――――――――――――――――――――――――――――――――――――――――――――――――――――――――\n",
      "openpnm.algorithms.TransientAdvectionDiffusion : alg_02\n",
      "――――――――――――――――――――――――――――――――――――――――――――――――――――――――――――――――――――――――――――――\n",
      "#     Properties                                    Valid Values\n",
      "――――――――――――――――――――――――――――――――――――――――――――――――――――――――――――――――――――――――――――――\n",
      "1     pore.bc_outflow                                  40 / 1600 \n",
      "2     pore.bc_rate                                      0 / 1600 \n",
      "3     pore.bc_value                                    40 / 1600 \n",
      "4     pore.concentration                             1600 / 1600 \n",
      "5     pore.concentration@0                           1600 / 1600 \n",
      "6     pore.concentration@10                          1600 / 1600 \n",
      "7     pore.concentration@100                         1600 / 1600 \n",
      "8     pore.concentration@15                          1600 / 1600 \n",
      "9     pore.concentration@20                          1600 / 1600 \n",
      "10    pore.concentration@25                          1600 / 1600 \n",
      "11    pore.concentration@30                          1600 / 1600 \n",
      "12    pore.concentration@35                          1600 / 1600 \n",
      "13    pore.concentration@40                          1600 / 1600 \n",
      "14    pore.concentration@45                          1600 / 1600 \n",
      "15    pore.concentration@5                           1600 / 1600 \n",
      "16    pore.concentration@50                          1600 / 1600 \n",
      "17    pore.concentration@55                          1600 / 1600 \n",
      "18    pore.concentration@60                          1600 / 1600 \n",
      "19    pore.concentration@65                          1600 / 1600 \n",
      "20    pore.concentration@70                          1600 / 1600 \n",
      "21    pore.concentration@75                          1600 / 1600 \n",
      "22    pore.concentration@80                          1600 / 1600 \n",
      "23    pore.concentration@85                          1600 / 1600 \n",
      "24    pore.concentration@90                          1600 / 1600 \n",
      "25    pore.concentration@95                          1600 / 1600 \n",
      "26    pore.ic                                        1600 / 1600 \n",
      "――――――――――――――――――――――――――――――――――――――――――――――――――――――――――――――――――――――――――――――\n",
      "#     Labels                                        Assigned Locations\n",
      "――――――――――――――――――――――――――――――――――――――――――――――――――――――――――――――――――――――――――――――\n",
      "1     pore.all                                      1600      \n",
      "2     throat.all                                    3120      \n",
      "――――――――――――――――――――――――――――――――――――――――――――――――――――――――――――――――――――――――――――――\n"
     ]
    }
   ],
   "source": [
    "print(ad)"
   ]
  },
  {
   "cell_type": "markdown",
   "metadata": {},
   "source": [
    "# Visualization using Matplotlib\n",
    "The pore concentration can be visualized using a 2D heatmap using matplotlib."
   ]
  },
  {
   "cell_type": "code",
   "execution_count": 12,
   "metadata": {},
   "outputs": [
    {
     "data": {
      "image/png": "[encoded data removed]",
      "text/plain": [
       "<Figure size 1080x1080 with 5 Axes>"
      ]
     },
     "metadata": {
      "needs_background": "light"
     },
     "output_type": "display_data"
    }
   ],
   "source": [
    "# NBVAL_IGNORE_OUTPUT\n",
    "cq = ad['pore.concentration@'+str(10)]\n",
    "cw = ad['pore.concentration@'+str(20)]\n",
    "ce = ad['pore.concentration@'+str(50)]\n",
    "cr = ad['pore.concentration@'+str(75)]\n",
    "cq2d = cq.reshape((pn._shape))\n",
    "cw2d = cw.reshape((pn._shape))\n",
    "ce2d = ce.reshape((pn._shape))\n",
    "cr2d = cr.reshape((pn._shape))\n",
    "fig,a = plt.subplots(2,2,figsize=(15, 15));\n",
    "im = a[0][0].imshow(cq2d[:,:,0],vmin=0,vmax=1);\n",
    "a[0][0].set_title('t = '+str(10)+'s')\n",
    "a[0][1].imshow(cw2d[:,:,0],vmin=0,vmax=1);\n",
    "a[0][1].set_title('t = '+str(20)+'s')\n",
    "a[1][0].imshow(ce2d[:,:,0],vmin=0,vmax=1);\n",
    "a[1][0].set_title('t = '+str(50)+'s')\n",
    "a[1][1].imshow(cr2d[:,:,0],vmin=0,vmax=1);\n",
    "a[1][1].set_title('t = '+str(75)+'s')\n",
    "plt.colorbar(im, ax=a, shrink = 0.6)\n",
    "plt.show()"
   ]
  },
  {
   "cell_type": "markdown",
   "metadata": {},
   "source": [
    "# Peclet Number\n",
    "\n",
    "The Peclet number is a dimensionless number defined as the ratio of the rate of advective transport to the rate of diffusive transport. This is often a useful number to know when analyzing advection diffusion problems. It can be calculated using the following equation:\n",
    "\n",
    "$$Pe_{throat} = \\frac{q_{throat}L}{AD_{Ae}}$$\n",
    "\n",
    "Where $q_{throat}$ is the volumetric flow rate for the throat, $L$ is the length of the throat, $A$ is the cross sectional area of the throat, and $D_{Ae}$ is the diffusion coefficent. A histogram representing the peclet numbers of all throats is presented below as well."
   ]
  },
  {
   "cell_type": "code",
   "execution_count": 13,
   "metadata": {},
   "outputs": [
    {
     "data": {
      "image/png": "[encoded data removed]",
      "text/plain": [
       "<Figure size 432x288 with 1 Axes>"
      ]
     },
     "metadata": {
      "needs_background": "light"
     },
     "output_type": "display_data"
    },
    {
     "name": "stdout",
     "output_type": "stream",
     "text": [
      "Average Peclet Number = 7.143648603416041\n"
     ]
    }
   ],
   "source": [
    "# NBVAL_IGNORE_OUTPUT\n",
    "q_throat = sf.rate(throats=pn.Ts,mode='single')\n",
    "L = pn['throat.length']\n",
    "A = (np.pi/4)*(pn['throat.diameter']**2)\n",
    "Pe_1 = q_throat*L/(A*water['throat.diffusivity'])\n",
    "n, bins, patches = plt.hist(Pe_1, bins=40, edgecolor='k')\n",
    "plt.xlabel('Peclet Number')\n",
    "plt.ylabel('Number of Throats')\n",
    "plt.title(r'Histogram of Peclet Numbers:')\n",
    "plt.show()\n",
    "def Average(l): \n",
    "    avg = sum(l) / len(l) \n",
    "    return avg\n",
    "Pe_ave = Average(Pe_1)\n",
    "print(\"Average Peclet Number = \" + str(Pe_ave))"
   ]
  },
  {
   "cell_type": "markdown",
   "metadata": {},
   "source": [
    "# Elution Curve\n",
    "\n"
   ]
  },
  {
   "cell_type": "code",
   "execution_count": 14,
   "metadata": {},
   "outputs": [
    {
     "data": {
      "text/plain": [
       "Text(0, 0.5, 'Concentration')"
      ]
     },
     "execution_count": 14,
     "metadata": {},
     "output_type": "execute_result"
    },
    {
     "data": {
      "image/png": "[encoded data removed]",
      "text/plain": [
       "<Figure size 432x288 with 1 Axes>"
      ]
     },
     "metadata": {
      "needs_background": "light"
     },
     "output_type": "display_data"
    }
   ],
   "source": [
    "# NBVAL_IGNORE_OUTPUT\n",
    "Pores_back = pn.pores(['back'])\n",
    "Throats_back = pn.find_neighbor_throats(pores=Pores_back, mode='xor')\n",
    "steps = tf/tstep +1\n",
    "count = 0\n",
    "C_ave = [0 for i in range(int(steps))]\n",
    "td = [0 for i in range(int(steps))]\n",
    "while count < int(steps):\n",
    "    step = count*tstep\n",
    "    conc_back = ad['pore.concentration@'+str(step)][Pores_back]\n",
    "    q_back = sf.rate(throats=pn.Ts,mode='single')[Throats_back]\n",
    "    C_ave[count] = np.sum(q_back*conc_back)/np.sum(q_back)\n",
    "    td[count] = step\n",
    "    count = count+1\n",
    "plt.plot(td,C_ave)\n",
    "plt.gca().legend(('simulation','fitted'))\n",
    "plt.xlabel('time, s')\n",
    "plt.ylabel('Concentration')"
   ]
  },
  {
   "cell_type": "markdown",
   "metadata": {},
   "source": [
    "# Solving for the Dispersion Coefficient\n",
    "\n",
    "The following equation given by Fried (1971) is used to solve the longitudinal dispersion coefficient:\n",
    "\n",
    "$$\\frac{C}{C_{0}} = \\frac{1}{2}erfc\\Bigl(\\frac{x-Ut}{2(D_{L}t)^{\\frac{1}{2}}}\\Bigr)+\\frac{1}{2}exp\\Bigl(\\frac{Ux}{D_{L}}\\Bigl)erfc\\Bigr(\\frac{x+Ut}{2(D_{L}t)^{\\frac{1}{2}}}\\Bigr)$$\n",
    "\n",
    "Where $x$ is the length between the inlet and the outlet, $t$ is the time, $D_{L}$ is the longitudinal dispersion coefficient, $U$ is the average pore velocity, $C_{0}$ is the inlet concentration, and $C$ is the concentration at the given time. Since we defined the inlet concentration as being equal to 1, solving for $C$ is effictivly equal to solving for $\\frac{C}{C_{0}}$. ``erfc`` is the complementary error function, which is imported from ``scipy``.\n",
    "\n"
   ]
  },
  {
   "cell_type": "code",
   "execution_count": 15,
   "metadata": {},
   "outputs": [],
   "source": [
    "from scipy import special\n",
    "q_throat = sf.rate(throats=pn.Ts, mode='single')\n",
    "A_throat = pn['throat.area']\n",
    "v_throat = q_throat/A_throat\n",
    "v_pred = sum(q_throat*v_throat)/sum(q_throat)\n",
    "def elution(step,v,DL):\n",
    "    x = 40*1e-4\n",
    "    el1 = 0.5*(special.erfc((x-step*v)/(2*(DL*step)**(1/2))))\n",
    "    el2 = 0.5*np.exp(v*x/DL)\n",
    "    el3 = special.erfc((x+step*v)/(2*(DL*step)**(1/2)))\n",
    "    return el1+el2*el3"
   ]
  },
  {
   "cell_type": "code",
   "execution_count": 16,
   "metadata": {},
   "outputs": [
    {
     "name": "stdout",
     "output_type": "stream",
     "text": [
      "Dispersion Coefficient =  8.6291E-09  m^2/s\n",
      "v_pred =  2.2569E-04  m/s\n",
      "v_fitted =  8.6742E-05  m/s\n"
     ]
    }
   ],
   "source": [
    "g = [v_pred,1e-3]\n",
    "xdata = td\n",
    "ydata = C_ave\n",
    "from scipy.optimize import curve_fit\n",
    "popt, pcov = curve_fit(elution,xdata,ydata,p0=g)\n",
    "popt\n",
    "disp_coeff = popt[1]\n",
    "v_fit = popt[0]\n",
    "print('Dispersion Coefficient = ', \"{0:.4E}\".format(disp_coeff), ' m^2/s')\n",
    "print('v_pred = ', \"{0:.4E}\".format(v_pred), ' m/s')\n",
    "print('v_fitted = ', \"{0:.4E}\".format(v_fit), ' m/s')"
   ]
  },
  {
   "cell_type": "code",
   "execution_count": 17,
   "metadata": {},
   "outputs": [
    {
     "name": "stdout",
     "output_type": "stream",
     "text": [
      "r^2:  9.99193E-01\n"
     ]
    },
    {
     "data": {
      "image/png": "[encoded data removed]",
      "text/plain": [
       "<Figure size 432x288 with 1 Axes>"
      ]
     },
     "metadata": {
      "needs_background": "light"
     },
     "output_type": "display_data"
    }
   ],
   "source": [
    "# NBVAL_IGNORE_OUTPUT\n",
    "el = [0 for i in range(len(ydata))]\n",
    "for i in range(len(ydata)):\n",
    "    el[i] = elution(xdata[i],popt[0],popt[1])\n",
    "plt.plot(xdata, ydata, xdata, el)\n",
    "plt.gca().legend(('simulation','fitted'))\n",
    "plt.xlabel('time, s')\n",
    "plt.ylabel('Concentration') "
   ]
  }
 ],
 "metadata": {
  "kernelspec": {
   "display_name": "Python 3",
   "language": "python",
   "name": "python3"
  },
  "language_info": {
   "codemirror_mode": {
    "name": "ipython",
    "version": 3
   },
   "file_extension": ".py",
   "mimetype": "text/x-python",
   "name": "python",
   "nbconvert_exporter": "python",
   "pygments_lexer": "ipython3",
   "version": "3.8.3"
  }
 },
 "nbformat": 4,
 "nbformat_minor": 2
}
