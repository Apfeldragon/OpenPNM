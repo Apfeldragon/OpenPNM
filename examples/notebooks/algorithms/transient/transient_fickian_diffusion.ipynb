{
 "cells": [
  {
   "cell_type": "markdown",
   "metadata": {},
   "source": [
    "# Transient Fickian Diffusion\n",
    "The package `OpenPNM` allows for the simulation of many transport phenomena in porous media such as Stokes flow, Fickian diffusion, advection-diffusion, transport of charged species, etc. Transient and steady-state simulations are both supported. An example of a transient Fickian diffusion simulation through a `Cubic` pore network is shown here."
   ]
  },
  {
   "cell_type": "markdown",
   "metadata": {},
   "source": [
    "First, `OpenPNM` is imported."
   ]
  },
  {
   "cell_type": "code",
   "execution_count": 1,
   "metadata": {},
   "outputs": [],
   "source": [
    "import numpy as np\n",
    "import openpnm as op\n",
    "np.random.seed(10)\n",
    "%matplotlib inline\n",
    "np.set_printoptions(precision=5)"
   ]
  },
  {
   "cell_type": "markdown",
   "metadata": {},
   "source": [
    "## Define new workspace and project"
   ]
  },
  {
   "cell_type": "code",
   "execution_count": 2,
   "metadata": {},
   "outputs": [],
   "source": [
    "ws = op.Workspace()\n",
    "ws.settings[\"loglevel\"] = 40\n",
    "proj = ws.new_project()"
   ]
  },
  {
   "cell_type": "markdown",
   "metadata": {},
   "source": [
    "## Generate a pore network\n",
    "An arbitrary `Cubic` 3D pore network is generated consisting of a layer of $29\\times13$ pores with a constant pore to pore centers spacing of ${10}^{-5}{m}$."
   ]
  },
  {
   "cell_type": "code",
   "execution_count": 3,
   "metadata": {},
   "outputs": [],
   "source": [
    "net = op.network.Cubic(shape=[13, 29, 1], spacing=1e-5, project=proj)"
   ]
  },
  {
   "cell_type": "markdown",
   "metadata": {},
   "source": [
    "## Create a geometry\n",
    "Here, a geometry, corresponding to the created network, is created. The geometry contains information about the size of pores and throats in the network such as length and diameter, etc. `OpenPNM` has many prebuilt geometries that represent the microstructure of different materials such as Toray090 carbon papers, sand stone, electrospun fibers, etc. In this example, a simple geometry known as `StickAndBall` that assigns random diameter values to pores throats, with certain constraints, is used."
   ]
  },
  {
   "cell_type": "code",
   "execution_count": 4,
   "metadata": {},
   "outputs": [],
   "source": [
    "geo = op.geometry.StickAndBall(network=net, pores=net.Ps, throats=net.Ts)"
   ]
  },
  {
   "cell_type": "markdown",
   "metadata": {},
   "source": [
    "## Add a phase\n",
    "Then, a phase (water in this example) is added to the simulation and assigned to the network. The phase contains the physical properties of the fluid considered in the simulation such as the viscosity, etc. Many predefined phases as available on `OpenPNM`."
   ]
  },
  {
   "cell_type": "code",
   "execution_count": 5,
   "metadata": {},
   "outputs": [],
   "source": [
    "phase = op.phases.Water(network=net)"
   ]
  },
  {
   "cell_type": "markdown",
   "metadata": {},
   "source": [
    "## Add a physics\n",
    "Next, a physics object is defined. The physics object stores information about the different physical models used in the simulation and is assigned to specific network, geometry and phase objects. This ensures that the different physical models will only have access to information about the network, geometry and phase objects to which they are assigned. In fact, models (such as Stokes flow or Fickian diffusion) require information about the network (such as the connectivity between pores), the geometry (such as the pores and throats diameters), and the phase (such as the diffusivity coefficient)."
   ]
  },
  {
   "cell_type": "code",
   "execution_count": 6,
   "metadata": {},
   "outputs": [],
   "source": [
    "phys = op.physics.GenericPhysics(network=net, phase=phase, geometry=geo)"
   ]
  },
  {
   "cell_type": "markdown",
   "metadata": {},
   "source": [
    "The diffusivity coefficient of the considered chemical species in water is also defined."
   ]
  },
  {
   "cell_type": "code",
   "execution_count": 7,
   "metadata": {},
   "outputs": [],
   "source": [
    "phase['pore.diffusivity'] = 2e-09"
   ]
  },
  {
   "cell_type": "markdown",
   "metadata": {},
   "source": [
    "## Defining a new model\n",
    "The physical model, consisting of Fickian diffusion, is defined and attached to the physics object previously defined."
   ]
  },
  {
   "cell_type": "code",
   "execution_count": 8,
   "metadata": {},
   "outputs": [],
   "source": [
    "mod = op.models.physics.diffusive_conductance.ordinary_diffusion\n",
    "phys.add_model(propname='throat.diffusive_conductance', model=mod, regen_mode='normal')"
   ]
  },
  {
   "cell_type": "markdown",
   "metadata": {},
   "source": [
    "## Define a transient Fickian diffusion algorithm\n",
    "Here, an algorithm for the simulation of transient Fickian diffusion is defined. It is assigned to the network and phase of interest to be able to retrieve all the information needed to build systems of linear equations."
   ]
  },
  {
   "cell_type": "code",
   "execution_count": 9,
   "metadata": {},
   "outputs": [],
   "source": [
    "fd = op.algorithms.TransientFickianDiffusion(network=net, phase=phase)"
   ]
  },
  {
   "cell_type": "markdown",
   "metadata": {},
   "source": [
    "## Add boundary conditions\n",
    "Next, Dirichlet boundary conditions are added over the front and back boundaries of the network."
   ]
  },
  {
   "cell_type": "code",
   "execution_count": 10,
   "metadata": {},
   "outputs": [],
   "source": [
    "fd.set_value_BC(pores=net.pores('front'), values=0.5)\n",
    "fd.set_value_BC(pores=net.pores('back'), values=0.2)"
   ]
  },
  {
   "cell_type": "markdown",
   "metadata": {},
   "source": [
    "## Define initial conditions\n",
    "Initial conditions (optional) can also be specified. If they are not defined, a zero concentration is assumed at the beginning of the transient simulation."
   ]
  },
  {
   "cell_type": "code",
   "execution_count": 11,
   "metadata": {},
   "outputs": [],
   "source": [
    "fd.set_IC(0.2)"
   ]
  },
  {
   "cell_type": "markdown",
   "metadata": {},
   "source": [
    "Note that both `set_value_BC` and `set_IC` also accept as input, in addition to a single scalar value, an `ndarray`."
   ]
  },
  {
   "cell_type": "markdown",
   "metadata": {},
   "source": [
    "## Setup the transient algorithm settings\n",
    "The settings of the transient algorithm are updated here. This step is optional as default settings are predefined. It is, however, important to update these settings on each new simulation as the time-scale of different phenomena in different problems may strongly differ.\n",
    "Here, the time discretization scheme is set to `cranknicolson`, which is second-order accurate in time. The two other options supported in `OpenPNM` are the `implicit` scheme (only first order accurate but faster than the `cranknicolson`) and the `steady` which simply corresponds to a steady-state simulation.\n",
    "Other parameters are also set; the final time step `t_final`, the output time stepping `t_output`, the computational time step `t_step`, and the tolerance to be achieved before reaching steady-state `t_tolerance`."
   ]
  },
  {
   "cell_type": "code",
   "execution_count": 12,
   "metadata": {},
   "outputs": [],
   "source": [
    "fd.setup(t_scheme='cranknicolson', t_final=100, t_output=5, t_step=1, t_tolerance=1e-12)"
   ]
  },
  {
   "cell_type": "markdown",
   "metadata": {},
   "source": [
    "Note that the output time stepping `t_output` may a `scalar`, `ND-array`, or `list`. For a scalar, it is considered as an output interval. If `t_output` > `t_final`, no transient data is stored. If `t_output` is not a multiple of `t_step`, `t_output` will be approximated. When `t_output` is a `list` or `ND-array`, transient solutions corresponding to this list or array will be stored. Finally, initial, final and steady-state (if reached) solutions are always stored."
   ]
  },
  {
   "cell_type": "markdown",
   "metadata": {},
   "source": [
    "## Print the algorithm settings\n",
    "One can print the algorithm's settings as shown here."
   ]
  },
  {
   "cell_type": "code",
   "execution_count": 13,
   "metadata": {},
   "outputs": [
    {
     "name": "stdout",
     "output_type": "stream",
     "text": [
      "――――――――――――――――――――――――――――――――――――――――――――――――――――――――――――――――――――――――――――――\n",
      "key                                 value\n",
      "――――――――――――――――――――――――――――――――――――――――――――――――――――――――――――――――――――――――――――――\n",
      "name                                alg_01\n",
      "cache_A                             True\n",
      "cache_b                             True\n",
      "conductance                         throat.diffusive_conductance\n",
      "phase                               phase_01\n",
      "quantity                            pore.concentration\n",
      "solver_atol                         None\n",
      "solver_family                       pypardiso\n",
      "solver_max_iter                     5000\n",
      "solver_preconditioner               jacobi\n",
      "solver_rtol                         None\n",
      "solver_tol                          1e-08\n",
      "solver_type                         spsolve\n",
      "prefix                              alg\n",
      "nlin_max_iter                       5000\n",
      "relaxation_quantity                 1.0\n",
      "relaxation_source                   1.0\n",
      "sources                             []\n",
      "variable_props                      []\n",
      "pore_volume                         pore.volume\n",
      "t_final                             100\n",
      "t_initial                           0\n",
      "t_output                            5\n",
      "t_precision                         12\n",
      "t_scheme                            cranknicolson\n",
      "t_step                              1\n",
      "t_tolerance                         1e-12\n",
      "――――――――――――――――――――――――――――――――――――――――――――――――――――――――――――――――――――――――――――――\n"
     ]
    }
   ],
   "source": [
    "print(fd.settings)"
   ]
  },
  {
   "cell_type": "markdown",
   "metadata": {},
   "source": [
    "Note that the `quantity` corresponds to the quantity solved for."
   ]
  },
  {
   "cell_type": "markdown",
   "metadata": {},
   "source": [
    "## Run the algorithm\n",
    "The algorithm is run here."
   ]
  },
  {
   "cell_type": "code",
   "execution_count": 14,
   "metadata": {},
   "outputs": [],
   "source": [
    "fd.run()"
   ]
  },
  {
   "cell_type": "markdown",
   "metadata": {},
   "source": [
    "## Post process and export the results\n",
    "Once the simulation is successfully performed. The solution at every time steps is stored within the algorithm object. The algorithm's stored information is printed here."
   ]
  },
  {
   "cell_type": "code",
   "execution_count": 15,
   "metadata": {},
   "outputs": [
    {
     "name": "stdout",
     "output_type": "stream",
     "text": [
      "――――――――――――――――――――――――――――――――――――――――――――――――――――――――――――――――――――――――――――――\n",
      "openpnm.algorithms.TransientFickianDiffusion : alg_01\n",
      "――――――――――――――――――――――――――――――――――――――――――――――――――――――――――――――――――――――――――――――\n",
      "#     Properties                                    Valid Values\n",
      "――――――――――――――――――――――――――――――――――――――――――――――――――――――――――――――――――――――――――――――\n",
      "1     pore.bc_rate                                      0 / 377  \n",
      "2     pore.bc_value                                    26 / 377  \n",
      "3     pore.concentration                              377 / 377  \n",
      "4     pore.concentration@0                            377 / 377  \n",
      "5     pore.concentration@10                           377 / 377  \n",
      "6     pore.concentration@100                          377 / 377  \n",
      "7     pore.concentration@15                           377 / 377  \n",
      "8     pore.concentration@20                           377 / 377  \n",
      "9     pore.concentration@25                           377 / 377  \n",
      "10    pore.concentration@30                           377 / 377  \n",
      "11    pore.concentration@35                           377 / 377  \n",
      "12    pore.concentration@40                           377 / 377  \n",
      "13    pore.concentration@45                           377 / 377  \n",
      "14    pore.concentration@5                            377 / 377  \n",
      "15    pore.concentration@50                           377 / 377  \n",
      "16    pore.concentration@55                           377 / 377  \n",
      "17    pore.concentration@60                           377 / 377  \n",
      "18    pore.concentration@65                           377 / 377  \n",
      "19    pore.concentration@70                           377 / 377  \n",
      "20    pore.concentration@75                           377 / 377  \n",
      "21    pore.concentration@80                           377 / 377  \n",
      "22    pore.concentration@85                           377 / 377  \n",
      "23    pore.concentration@90                           377 / 377  \n",
      "24    pore.concentration@95                           377 / 377  \n",
      "25    pore.ic                                         377 / 377  \n",
      "――――――――――――――――――――――――――――――――――――――――――――――――――――――――――――――――――――――――――――――\n",
      "#     Labels                                        Assigned Locations\n",
      "――――――――――――――――――――――――――――――――――――――――――――――――――――――――――――――――――――――――――――――\n",
      "1     pore.all                                      377       \n",
      "2     throat.all                                    712       \n",
      "――――――――――――――――――――――――――――――――――――――――――――――――――――――――――――――――――――――――――――――\n"
     ]
    }
   ],
   "source": [
    "print(fd)"
   ]
  },
  {
   "cell_type": "markdown",
   "metadata": {},
   "source": [
    "Note that the solutions at every exported time step contain the `@` character followed by the time value. Here the solution is exported after each $5s$ in addition to the final time step which is not a multiple of $5$ in this example."
   ]
  },
  {
   "cell_type": "markdown",
   "metadata": {},
   "source": [
    "To print the solution at $t=10s$"
   ]
  },
  {
   "cell_type": "code",
   "execution_count": 16,
   "metadata": {},
   "outputs": [
    {
     "data": {
      "text/plain": [
       "array([0.2    , 0.20578, 0.21248, 0.21467, 0.21815, 0.22649, 0.23687,\n",
       "       0.24519, 0.25411, 0.26817, 0.28043, 0.28309, 0.29757, 0.32005,\n",
       "       0.32691, 0.33485, 0.3435 , 0.35934, 0.3735 , 0.37873, 0.38647,\n",
       "       0.40779, 0.43106, 0.4425 , 0.45428, 0.46841, 0.48092, 0.49113,\n",
       "       0.5    , 0.2    , 0.20524, 0.21101, 0.21442, 0.21814, 0.22632,\n",
       "       0.23703, 0.24672, 0.25496, 0.26728, 0.28003, 0.28484, 0.29302,\n",
       "       0.3123 , 0.3256 , 0.33476, 0.34491, 0.36002, 0.37387, 0.38015,\n",
       "       0.39123, 0.40737, 0.42695, 0.44133, 0.45332, 0.47001, 0.48166,\n",
       "       0.48864, 0.5    , 0.2    , 0.20603, 0.21195, 0.21491, 0.21913,\n",
       "       0.22404, 0.23777, 0.24816, 0.25685, 0.26726, 0.2763 , 0.28314,\n",
       "       0.29524, 0.31127, 0.32187, 0.33432, 0.34616, 0.36352, 0.3766 ,\n",
       "       0.38282, 0.39108, 0.40795, 0.42554, 0.43949, 0.45043, 0.46406,\n",
       "       0.47604, 0.48931, 0.5    , 0.2    , 0.20768, 0.21185, 0.21528,\n",
       "       0.22037, 0.23023, 0.24197, 0.24906, 0.25767, 0.26418, 0.27261,\n",
       "       0.28368, 0.29572, 0.30781, 0.31585, 0.3336 , 0.35481, 0.36762,\n",
       "       0.37579, 0.38162, 0.39376, 0.41072, 0.42533, 0.44136, 0.45347,\n",
       "       0.46213, 0.47439, 0.48978, 0.5    , 0.2    , 0.20777, 0.21292,\n",
       "       0.21646, 0.22359, 0.23143, 0.24108, 0.25014, 0.25569, 0.26253,\n",
       "       0.27314, 0.28284, 0.29127, 0.30443, 0.31951, 0.33251, 0.351  ,\n",
       "       0.36843, 0.37878, 0.38405, 0.39349, 0.40392, 0.42682, 0.44638,\n",
       "       0.45458, 0.46478, 0.47726, 0.49075, 0.5    , 0.2    , 0.20695,\n",
       "       0.21402, 0.21744, 0.22539, 0.23288, 0.24073, 0.24887, 0.25339,\n",
       "       0.26385, 0.2759 , 0.28089, 0.28802, 0.30091, 0.31717, 0.32889,\n",
       "       0.34786, 0.36573, 0.38047, 0.38662, 0.39522, 0.40675, 0.42803,\n",
       "       0.44495, 0.45451, 0.46641, 0.47713, 0.48987, 0.5    , 0.2    ,\n",
       "       0.20689, 0.21457, 0.2207 , 0.22838, 0.23381, 0.24009, 0.24605,\n",
       "       0.25324, 0.26354, 0.27548, 0.279  , 0.28682, 0.29672, 0.31459,\n",
       "       0.33008, 0.3482 , 0.36404, 0.37724, 0.38851, 0.39883, 0.41255,\n",
       "       0.42942, 0.44039, 0.45099, 0.46598, 0.47961, 0.48808, 0.5    ,\n",
       "       0.2    , 0.20555, 0.21413, 0.22316, 0.22751, 0.23366, 0.23938,\n",
       "       0.24714, 0.25625, 0.25966, 0.26992, 0.27743, 0.28521, 0.30055,\n",
       "       0.31519, 0.3313 , 0.34844, 0.36621, 0.37828, 0.38629, 0.40142,\n",
       "       0.41408, 0.42221, 0.43824, 0.45319, 0.46454, 0.47702, 0.48827,\n",
       "       0.5    , 0.2    , 0.20603, 0.21155, 0.21993, 0.2282 , 0.23456,\n",
       "       0.2412 , 0.24616, 0.2536 , 0.26054, 0.26776, 0.27494, 0.28961,\n",
       "       0.30559, 0.31269, 0.33128, 0.34791, 0.36172, 0.37826, 0.39045,\n",
       "       0.40436, 0.41337, 0.42006, 0.43379, 0.45064, 0.46394, 0.47489,\n",
       "       0.48396, 0.5    , 0.2    , 0.20815, 0.21293, 0.21718, 0.225  ,\n",
       "       0.23381, 0.24254, 0.24653, 0.25293, 0.25908, 0.26692, 0.27348,\n",
       "       0.28964, 0.30557, 0.31867, 0.33034, 0.34511, 0.35778, 0.37557,\n",
       "       0.39162, 0.40388, 0.41499, 0.41981, 0.43327, 0.44932, 0.45823,\n",
       "       0.47055, 0.48617, 0.5    , 0.2    , 0.20739, 0.21275, 0.21975,\n",
       "       0.2259 , 0.23101, 0.23932, 0.24469, 0.25229, 0.26155, 0.26788,\n",
       "       0.27806, 0.29607, 0.30713, 0.31753, 0.32895, 0.34481, 0.36093,\n",
       "       0.3753 , 0.38835, 0.40206, 0.41465, 0.41981, 0.43602, 0.4521 ,\n",
       "       0.45706, 0.46494, 0.48449, 0.5    , 0.2    , 0.20639, 0.21074,\n",
       "       0.2172 , 0.22432, 0.23017, 0.2403 , 0.24691, 0.25134, 0.26147,\n",
       "       0.26912, 0.27448, 0.29249, 0.31029, 0.3213 , 0.33052, 0.34299,\n",
       "       0.35492, 0.37287, 0.39198, 0.40188, 0.41225, 0.42283, 0.4375 ,\n",
       "       0.44954, 0.45838, 0.46947, 0.48533, 0.5    , 0.2    , 0.20521,\n",
       "       0.20934, 0.21327, 0.22147, 0.22692, 0.23729, 0.24775, 0.25546,\n",
       "       0.26572, 0.26834, 0.27299, 0.29058, 0.30984, 0.32287, 0.32736,\n",
       "       0.34244, 0.35939, 0.3695 , 0.3879 , 0.40407, 0.41119, 0.42389,\n",
       "       0.43887, 0.44932, 0.45992, 0.47402, 0.4918 , 0.5    ])"
      ]
     },
     "execution_count": 16,
     "metadata": {},
     "output_type": "execute_result"
    }
   ],
   "source": [
    "fd['pore.concentration@10']"
   ]
  },
  {
   "cell_type": "markdown",
   "metadata": {},
   "source": [
    "The solution is here stored in the phase before export."
   ]
  },
  {
   "cell_type": "code",
   "execution_count": 17,
   "metadata": {},
   "outputs": [],
   "source": [
    "phase.update(fd.results())"
   ]
  },
  {
   "cell_type": "markdown",
   "metadata": {},
   "source": [
    "## Visialization using Matplotlib\n",
    "One can perform post processing and visualization using the exported files on an external software such as `Paraview`. Additionally, the `Pyhton` library `Matplotlib` can be used as shown here to plot the concentration color map at steady-state."
   ]
  },
  {
   "cell_type": "code",
   "execution_count": 18,
   "metadata": {},
   "outputs": [
    {
     "data": {
      "image/png": "[encoded data removed]",
      "text/plain": [
       "<Figure size 432x432 with 2 Axes>"
      ]
     },
     "metadata": {
      "needs_background": "light"
     },
     "output_type": "display_data"
    }
   ],
   "source": [
    "#NBVAL_IGNORE_OUTPUT\n",
    "import matplotlib.pyplot as plt\n",
    "c = fd['pore.concentration'].reshape((net._shape))\n",
    "fig, ax = plt.subplots(figsize=(6, 6))\n",
    "plt.imshow(c[:,:,0])\n",
    "plt.title('Concentration (mol/m$^3$)')\n",
    "plt.colorbar();"
   ]
  }
 ],
 "metadata": {
  "@webio": {
   "lastCommId": null,
   "lastKernelId": null
  },
  "hide_input": false,
  "kernelspec": {
   "display_name": "Python 3",
   "language": "python",
   "name": "python3"
  },
  "language_info": {
   "codemirror_mode": {
    "name": "ipython",
    "version": 3
   },
   "file_extension": ".py",
   "mimetype": "text/x-python",
   "name": "python",
   "nbconvert_exporter": "python",
   "pygments_lexer": "ipython3",
   "version": "3.8.3"
  }
 },
 "nbformat": 4,
 "nbformat_minor": 2
}
