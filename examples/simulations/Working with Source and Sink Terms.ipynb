{
 "cells": [
  {
   "cell_type": "markdown",
   "metadata": {},
   "source": [
    "# Using Source and Sink Terms for a Chemical Reaction"
   ]
  },
  {
   "cell_type": "code",
   "execution_count": 1,
   "metadata": {},
   "outputs": [],
   "source": [
    "import warnings\n",
    "import scipy as sp\n",
    "import numpy as np\n",
    "import openpnm as op\n",
    "import matplotlib.pyplot as plt\n",
    "np.set_printoptions(precision=5)\n",
    "np.random.seed(10)\n",
    "%matplotlib inline"
   ]
  },
  {
   "cell_type": "markdown",
   "metadata": {},
   "source": [
    "Start by creating the network, geometry, phase and physics objects as usual:"
   ]
  },
  {
   "cell_type": "code",
   "execution_count": 2,
   "metadata": {},
   "outputs": [],
   "source": [
    "pn = op.network.Cubic(shape=[40, 40], spacing=1e-4)\n",
    "geo = op.geometry.StickAndBall(network=pn, pores=pn.Ps, throats=pn.Ts)\n",
    "gas = op.phases.Air(network=pn)\n",
    "phys = op.physics.Standard(network=pn, phase=gas, geometry=geo)"
   ]
  },
  {
   "cell_type": "markdown",
   "metadata": {},
   "source": [
    "Now add the source and sink models to the physics object.  In this case we'll think of the as chemical reactions.  We'll add one source term and one sink term, meaning one negative reaction rate and one positive reaction rate"
   ]
  },
  {
   "cell_type": "code",
   "execution_count": 3,
   "metadata": {},
   "outputs": [],
   "source": [
    "gas['pore.concentration'] = 0\n",
    "phys['pore.sinkA'] = -1e-10\n",
    "phys['pore.sinkb'] = 1\n",
    "phys.add_model(propname='pore.sink', model=op.models.physics.generic_source_term.power_law,\n",
    "               A1='pore.sinkA', A2='pore.sinkb', X='pore.concentration')\n",
    "phys['pore.srcA'] = 1e-11\n",
    "phys['pore.srcb'] = 1\n",
    "phys.add_model(propname='pore.source', model=op.models.physics.generic_source_term.power_law,\n",
    "               A1='pore.srcA', A2='pore.srcb', X='pore.concentration')"
   ]
  },
  {
   "cell_type": "markdown",
   "metadata": {},
   "source": [
    "Now we setup a FickianDiffusion algorithm, with concentration boundary conditions on two side, and apply the sink term to 3 pores:"
   ]
  },
  {
   "cell_type": "code",
   "execution_count": 4,
   "metadata": {},
   "outputs": [],
   "source": [
    "rx = op.algorithms.FickianDiffusion(network=pn)\n",
    "rx.setup(phase=gas)\n",
    "rx.set_source(propname='pore.sink', pores=[420, 820, 1220])\n",
    "rx.set_value_BC(values=1, pores=pn.pores('front'))\n",
    "rx.set_value_BC(values=1, pores=pn.pores('back'))\n",
    "rx.run()"
   ]
  },
  {
   "cell_type": "markdown",
   "metadata": {},
   "source": [
    "Because the network is a 2D cubic, it is convenient to visualize it as an image, so we reshape the 'pore.concentration' array that is produced by the FickianDiffusion algorithm upon running, and turn it into a colormap representing concentration in each pore."
   ]
  },
  {
   "cell_type": "code",
   "execution_count": 5,
   "metadata": {},
   "outputs": [
    {
     "data": {
      "image/png": "[encoded data removed]",
      "text/plain": [
       "<Figure size 432x432 with 1 Axes>"
      ]
     },
     "metadata": {
      "needs_background": "light"
     },
     "output_type": "display_data"
    }
   ],
   "source": [
    "# NBVAL_IGNORE_OUTPUT\n",
    "im = np.reshape(rx['pore.concentration'], [40, 40])\n",
    "fig = plt.figure(figsize=[6, 6])\n",
    "plt.imshow(im);"
   ]
  },
  {
   "cell_type": "markdown",
   "metadata": {},
   "source": [
    "Similarly, for the source term:"
   ]
  },
  {
   "cell_type": "code",
   "execution_count": 6,
   "metadata": {},
   "outputs": [],
   "source": [
    "rx = op.algorithms.FickianDiffusion(network=pn)\n",
    "rx.setup(phase=gas)\n",
    "rx.set_source(propname='pore.source', pores=[420, 820, 1220])\n",
    "rx.set_value_BC(values=1, pores=pn.pores('front'))\n",
    "rx.set_value_BC(values=1, pores=pn.pores('back'))\n",
    "rx.run()"
   ]
  },
  {
   "cell_type": "code",
   "execution_count": 7,
   "metadata": {},
   "outputs": [
    {
     "data": {
      "image/png": "[encoded data removed]",
      "text/plain": [
       "<Figure size 432x432 with 1 Axes>"
      ]
     },
     "metadata": {
      "needs_background": "light"
     },
     "output_type": "display_data"
    }
   ],
   "source": [
    "# NBVAL_IGNORE_OUTPUT\n",
    "im = np.reshape(rx['pore.concentration'], [40, 40])\n",
    "fig = plt.figure(figsize=[6, 6])\n",
    "plt.imshow(im);"
   ]
  }
 ],
 "metadata": {
  "@webio": {
   "lastCommId": null,
   "lastKernelId": null
  },
  "kernelspec": {
   "display_name": "Python 3",
   "language": "python",
   "name": "python3"
  },
  "language_info": {
   "codemirror_mode": {
    "name": "ipython",
    "version": 3
   },
   "file_extension": ".py",
   "mimetype": "text/x-python",
   "name": "python",
   "nbconvert_exporter": "python",
   "pygments_lexer": "ipython3",
   "version": "3.7.3"
  }
 },
 "nbformat": 4,
 "nbformat_minor": 2
}
